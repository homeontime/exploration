{
 "cells": [
  {
   "cell_type": "markdown",
   "metadata": {},
   "source": [
    "### Installing the mysql connector for python3 "
   ]
  },
  {
   "cell_type": "code",
   "execution_count": 1,
   "metadata": {},
   "outputs": [
    {
     "name": "stdout",
     "output_type": "stream",
     "text": [
      "Requirement already satisfied: mysql-connector in ./venv/lib/python3.5/site-packages (2.1.6)\n"
     ]
    }
   ],
   "source": [
    "!pip install mysql-connector"
   ]
  },
  {
   "cell_type": "code",
   "execution_count": 58,
   "metadata": {},
   "outputs": [],
   "source": [
    "import mysql.connector"
   ]
  },
  {
   "cell_type": "code",
   "execution_count": 59,
   "metadata": {},
   "outputs": [
    {
     "data": {
      "text/plain": [
       "990686"
      ]
     },
     "execution_count": 59,
     "metadata": {},
     "output_type": "execute_result"
    }
   ],
   "source": [
    "cnx = mysql.connector.connect(user=\"root\", password=\"root\", host=\"104.155.57.102\", database=\"bts\")\n",
    "cursor = cnx.cursor()\n",
    "query = \"SELECT COUNT(*) from flights;\"\n",
    "cursor.execute(query)\n",
    "[r[0] for r in cursor][0]"
   ]
  },
  {
   "cell_type": "code",
   "execution_count": 60,
   "metadata": {},
   "outputs": [],
   "source": [
    "class DepartureBasedStatistics():\n",
    "        \n",
    "    def __init__(self, user, password, host, database):\n",
    "        self.cnx = mysql.connector.connect(user=user, password=password, host=host, database=database)\n",
    "        self.cursor = cnx.cursor()\n",
    "      \n",
    "    def xq(self, query):\n",
    "        self.cursor.execute(query)\n",
    "        return [r[0] for r in self.cursor][0]\n",
    "\n",
    "    def contingency(self, arr_thr, dep_thr):\n",
    "        tn = \"select count(dest) from flights where arr_delay < {0} and dep_delay < {1};\".format(arr_thr, dep_thr)\n",
    "        fn = \"select count(dest) from flights where arr_delay >= {0} and dep_delay < {1};\".format(arr_thr, dep_thr)\n",
    "        fp = \"select count(dest) from flights where arr_delay < {0} and dep_delay >= {1};\".format(arr_thr, dep_thr)\n",
    "        tp = \"select count(dest) from flights where arr_delay >= {0} and dep_delay >= {1};\".format(arr_thr, dep_thr)    \n",
    "        return {\"tn\": self.xq(tn), \"fn\": self.xq(fn), \"tp\": self.xq(tp), \"fp\": self.xq(fp)}\n",
    "    \n",
    "    def accuracy( self, arr_thr, dep_thr):\n",
    "        c = self.contingency(arr_thr, dep_thr)\n",
    "        return (c['tn'] + c['tp']) / (c['tn'] + c['tp'] + c['fn'] + c['fp'])\n",
    "\n",
    "    def precision( self, arr_thr, dep_thr):\n",
    "        c = self.contingency(arr_thr, dep_thr)\n",
    "        return c['tp'] / (c['tp'] + c['fn'])\n",
    "\n",
    "    def recall( self, arr_thr, dep_thr):\n",
    "        c = self.contingency(arr_thr, dep_thr)\n",
    "        return c['tp'] / (c['tp'] + c['fp'])\n",
    "\n"
   ]
  },
  {
   "cell_type": "code",
   "execution_count": 61,
   "metadata": {},
   "outputs": [],
   "source": [
    "stats = DepartureBasedStatistics('root', 'root', '104.155.57.102', 'bts')"
   ]
  },
  {
   "cell_type": "code",
   "execution_count": 62,
   "metadata": {},
   "outputs": [
    {
     "data": {
      "text/plain": [
       "{'fn': 33823, 'fp': 73563, 'tn': 713545, 'tp': 169755}"
      ]
     },
     "execution_count": 62,
     "metadata": {},
     "output_type": "execute_result"
    }
   ],
   "source": [
    "stats.contingency(15,10)"
   ]
  },
  {
   "cell_type": "code",
   "execution_count": 63,
   "metadata": {},
   "outputs": [
    {
     "data": {
      "text/plain": [
       "0.9164881708230459"
      ]
     },
     "execution_count": 63,
     "metadata": {},
     "output_type": "execute_result"
    }
   ],
   "source": [
    "stats.accuracy(15, 15)"
   ]
  },
  {
   "cell_type": "code",
   "execution_count": 55,
   "metadata": {},
   "outputs": [
    {
     "data": {
      "text/plain": [
       "[(10, 0.8338572930277338),\n",
       " (12, 0.8173083535549028),\n",
       " (14, 0.7994773502048355),\n",
       " (16, 0.7796864101229013),\n",
       " (18, 0.758731297094971),\n",
       " (20, 0.7348780320073879)]"
      ]
     },
     "execution_count": 55,
     "metadata": {},
     "output_type": "execute_result"
    }
   ],
   "source": [
    "[ (i, stats.precision(15, i)) for i in [10, 12, 14, 16, 18, 20]] "
   ]
  },
  {
   "cell_type": "code",
   "execution_count": null,
   "metadata": {},
   "outputs": [],
   "source": []
  }
 ],
 "metadata": {
  "kernelspec": {
   "display_name": "Python 3",
   "language": "python",
   "name": "python3"
  },
  "language_info": {
   "codemirror_mode": {
    "name": "ipython",
    "version": 3
   },
   "file_extension": ".py",
   "mimetype": "text/x-python",
   "name": "python",
   "nbconvert_exporter": "python",
   "pygments_lexer": "ipython3",
   "version": "3.5.2"
  }
 },
 "nbformat": 4,
 "nbformat_minor": 2
}
